{
 "cells": [
  {
   "cell_type": "markdown",
   "metadata": {},
   "source": [
    "# Interacting with Web APIs\n",
    "\n"
   ]
  },
  {
   "cell_type": "markdown",
   "metadata": {},
   "source": [
    "We are going to examine now the concept of a Web API. A web API is similar to a function call, but the \"function\" that we call is located in another machine, and we submit the parameters of the function through the web.\n",
    "\n"
   ]
  },
  {
   "cell_type": "markdown",
   "metadata": {},
   "source": [
    "## First Example: GeoIP resolution"
   ]
  },
  {
   "cell_type": "markdown",
   "metadata": {},
   "source": [
    "We will start with an example that is doing a \"geoIP\" resolution: it takes the IP of a computer and returns back its location."
   ]
  },
  {
   "cell_type": "code",
   "execution_count": null,
   "metadata": {},
   "outputs": [],
   "source": [
    "# !sudo -H pip3 install -U requests\n",
    "# import requests\n",
    "# requests.__version__"
   ]
  },
  {
   "cell_type": "code",
   "execution_count": 8,
   "metadata": {},
   "outputs": [],
   "source": [
    "# We first import the requests library\n",
    "import requests\n",
    "url = 'http://api.ipstack.com/check?access_key=f55e8caf8ef1da045a96761ff0253354'\n",
    "resp = requests.get(url)"
   ]
  },
  {
   "cell_type": "code",
   "execution_count": 3,
   "metadata": {},
   "outputs": [
    {
     "data": {
      "text/plain": [
       "<Response [200]>"
      ]
     },
     "execution_count": 3,
     "metadata": {},
     "output_type": "execute_result"
    }
   ],
   "source": [
    "# The resp object encapsulates the \"response\" of the server\n",
    "# Notice the status code that is displayed. \n",
    "# Code 200 means that things went fine\n",
    "# Code 404 means that the URL was not found\n",
    "# Codes 5xx mean that something went wrong\n",
    "resp"
   ]
  },
  {
   "cell_type": "code",
   "execution_count": 9,
   "metadata": {},
   "outputs": [
    {
     "name": "stdout",
     "output_type": "stream",
     "text": [
      "Everything was ok: 200\n"
     ]
    }
   ],
   "source": [
    "if (resp.status_code == 200):\n",
    "    print(\"Everything was ok:\", resp.status_code)\n",
    "else:\n",
    "    print(\"There was a problem:\", resp.status_code)"
   ]
  },
  {
   "cell_type": "code",
   "execution_count": 10,
   "metadata": {},
   "outputs": [
    {
     "data": {
      "text/plain": [
       "'{\"ip\":\"35.245.245.105\",\"type\":\"ipv4\",\"continent_code\":\"NA\",\"continent_name\":\"North America\",\"country_code\":\"US\",\"country_name\":\"United States\",\"region_code\":\"CA\",\"region_name\":\"California\",\"city\":\"Mountain View\",\"zip\":\"94043\",\"latitude\":37.419158935546875,\"longitude\":-122.07540893554688,\"location\":{\"geoname_id\":5375480,\"capital\":\"Washington D.C.\",\"languages\":[{\"code\":\"en\",\"name\":\"English\",\"native\":\"English\"}],\"country_flag\":\"http:\\\\/\\\\/assets.ipstack.com\\\\/flags\\\\/us.svg\",\"country_flag_emoji\":\"\\\\ud83c\\\\uddfa\\\\ud83c\\\\uddf8\",\"country_flag_emoji_unicode\":\"U+1F1FA U+1F1F8\",\"calling_code\":\"1\",\"is_eu\":false}}'"
      ]
     },
     "execution_count": 10,
     "metadata": {},
     "output_type": "execute_result"
    }
   ],
   "source": [
    "# Let's see the content of the response\n",
    "# As you can see, it contain the JSON response\n",
    "data = resp.text\n",
    "data"
   ]
  },
  {
   "cell_type": "code",
   "execution_count": 6,
   "metadata": {},
   "outputs": [
    {
     "data": {
      "text/plain": [
       "str"
      ]
     },
     "execution_count": 6,
     "metadata": {},
     "output_type": "execute_result"
    }
   ],
   "source": [
    "type(data)"
   ]
  },
  {
   "cell_type": "code",
   "execution_count": 11,
   "metadata": {},
   "outputs": [],
   "source": [
    "# We want to transform the JSON file into a Python dictionary object\n",
    "# We use the response.json() command to get back a dictionary\n",
    "data = resp.json()"
   ]
  },
  {
   "cell_type": "code",
   "execution_count": 13,
   "metadata": {},
   "outputs": [
    {
     "data": {
      "text/plain": [
       "{'ip': '35.245.245.105',\n",
       " 'type': 'ipv4',\n",
       " 'continent_code': 'NA',\n",
       " 'continent_name': 'North America',\n",
       " 'country_code': 'US',\n",
       " 'country_name': 'United States',\n",
       " 'region_code': 'CA',\n",
       " 'region_name': 'California',\n",
       " 'city': 'Mountain View',\n",
       " 'zip': '94043',\n",
       " 'latitude': 37.419158935546875,\n",
       " 'longitude': -122.07540893554688,\n",
       " 'location': {'geoname_id': 5375480,\n",
       "  'capital': 'Washington D.C.',\n",
       "  'languages': [{'code': 'en', 'name': 'English', 'native': 'English'}],\n",
       "  'country_flag': 'http://assets.ipstack.com/flags/us.svg',\n",
       "  'country_flag_emoji': '🇺🇸',\n",
       "  'country_flag_emoji_unicode': 'U+1F1FA U+1F1F8',\n",
       "  'calling_code': '1',\n",
       "  'is_eu': False}}"
      ]
     },
     "execution_count": 13,
     "metadata": {},
     "output_type": "execute_result"
    }
   ],
   "source": [
    "# Now data is a Python dictionary\n",
    "data"
   ]
  },
  {
   "cell_type": "code",
   "execution_count": 12,
   "metadata": {},
   "outputs": [
    {
     "name": "stdout",
     "output_type": "stream",
     "text": [
      "Lon: -122.07540893554688 Lat: 37.419158935546875\n"
     ]
    }
   ],
   "source": [
    "# And we can access the fields of the JSON as we normally access Python dictionary entries\n",
    "print(\"Lon:\", data[\"longitude\"], \"Lat:\", data[\"latitude\"])"
   ]
  },
  {
   "cell_type": "markdown",
   "metadata": {},
   "source": [
    "And in one piece:"
   ]
  },
  {
   "cell_type": "code",
   "execution_count": 13,
   "metadata": {},
   "outputs": [
    {
     "name": "stdout",
     "output_type": "stream",
     "text": [
      "Lon: -122.07540893554688 Lat: 37.419158935546875\n"
     ]
    }
   ],
   "source": [
    "import requests\n",
    "url = 'http://api.ipstack.com/check?access_key=dd4cbbbe9d6b9f2709e5f0533644e547'\n",
    "resp = requests.get(url)\n",
    "data = resp.json()\n",
    "print(\"Lon:\", data[\"longitude\"], \"Lat:\", data[\"latitude\"])"
   ]
  },
  {
   "cell_type": "code",
   "execution_count": 16,
   "metadata": {},
   "outputs": [
    {
     "name": "stdout",
     "output_type": "stream",
     "text": [
      "{'success': False, 'error': {'code': 105, 'type': 'https_access_restricted', 'info': 'Access Restricted - Your current Subscription Plan does not support HTTPS Encryption.'}}\n"
     ]
    }
   ],
   "source": [
    "import requests\n",
    "url = 'https://api.ipstack.com/172.20.10.2?access_key=dd4cbbbe9d6b9f2709e5f0533644e547'\n",
    "resp = requests.get(url)\n",
    "data = resp.json()\n",
    "print(data)\n",
    "\n",
    "#correct error. We're using the free plan."
   ]
  },
  {
   "cell_type": "markdown",
   "metadata": {},
   "source": [
    "## Using Parameters with API Calls\n"
   ]
  },
  {
   "cell_type": "markdown",
   "metadata": {},
   "source": [
    "\n",
    "The first API call that we tried was very simple. We just fetched a URL. Now let's see a URL that accepts as input a set of **parameters**. We have already seen this concept with functions; the parameters of the API calls are the exact equivalent but for Web APIs, which are, at their core, functions that we call over the web. "
   ]
  },
  {
   "cell_type": "markdown",
   "metadata": {},
   "source": [
    "### Example: OpenWeatherMap"
   ]
  },
  {
   "cell_type": "markdown",
   "metadata": {},
   "source": [
    "Let's try to query OpenWeatherMap now, to get data about the weather. [Documentation](http://openweathermap.org/current#geo). Below you can find the URL that you can copy and paste in your browser, to get the weather for New York. You will notice that it contains parameters as part of the URL, including an `appid` which is a key that is used to limit the number of calls that can be issued by a single application. \n",
    "\n",
    "Try the URL in your browser. Also try to change the query parameter `q` and change it from `New%20York,NY` to something different. (Note: The `%20` is a transformation for the space (` `) character in URLs.)"
   ]
  },
  {
   "cell_type": "raw",
   "metadata": {},
   "source": [
    "http://api.openweathermap.org/data/2.5/weather?q=New%20York,NY,USA&units=imperial&mode=json&appid=ffb7b9808e07c9135bdcc7d1e867253d"
   ]
  },
  {
   "cell_type": "markdown",
   "metadata": {},
   "source": [
    "Below you can find the same code, but now we have a Python dictionary to organize and list the parameters."
   ]
  },
  {
   "cell_type": "code",
   "execution_count": null,
   "metadata": {},
   "outputs": [],
   "source": [
    "import requests\n",
    "\n",
    "openweathermap_url = \"http://api.openweathermap.org/data/2.5/weather\"\n",
    "parameters = {\n",
    "    'q'     : 'New York, NY, USA',\n",
    "    'units' : 'imperial',\n",
    "    'mode'  : 'json',\n",
    "    'appid' : 'ffb7b9808e07c9135bdcc7d1e867253d'\n",
    "}\n",
    "resp = requests.get(openweathermap_url, params=parameters)\n",
    "data = resp.json()\n",
    "data"
   ]
  },
  {
   "cell_type": "markdown",
   "metadata": {},
   "source": [
    "## Lab 2.1"
   ]
  },
  {
   "cell_type": "markdown",
   "metadata": {},
   "source": [
    "Use the weatherAPI for this lab. Name your file `lastname_firstname_lesson02.ipynb`\n",
    "\n",
    "a. Extract the current temperature from the returned JSON response.  \n",
    "b. Extract the description of the current weather.  \n",
    "c. Try to change the units to metric and repeat.  \n",
    "d. Get the weather for San Francisco, CA.  \n",
    "e. Study the documentation of the API (Documentation). Change the API call to use the longitude and latitude.  \n",
    "f. Read the location of your computer (which will be your VM instances) using the GeoIP API. Then use the OpenWeatherMap to query the API and fetch the temperature for the location returned by the GeoIP API. For this exercise, you will need to learn to read variables from a Web API (geoip) and use them as input in another (openweathermap).  "
   ]
  }
 ],
 "metadata": {
  "kernelspec": {
   "display_name": "Python 3",
   "language": "python",
   "name": "python3"
  },
  "language_info": {
   "codemirror_mode": {
    "name": "ipython",
    "version": 3
   },
   "file_extension": ".py",
   "mimetype": "text/x-python",
   "name": "python",
   "nbconvert_exporter": "python",
   "pygments_lexer": "ipython3",
   "version": "3.6.9"
  },
  "toc": {
   "nav_menu": {},
   "number_sections": true,
   "sideBar": true,
   "skip_h1_title": false,
   "title_cell": "Table of Contents",
   "title_sidebar": "Contents",
   "toc_cell": false,
   "toc_position": {},
   "toc_section_display": true,
   "toc_window_display": false
  }
 },
 "nbformat": 4,
 "nbformat_minor": 1
}
