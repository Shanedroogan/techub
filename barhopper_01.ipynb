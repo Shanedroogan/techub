{
 "cells": [
  {
   "cell_type": "markdown",
   "metadata": {},
   "source": [
    "# BarHopper"
   ]
  },
  {
   "cell_type": "markdown",
   "metadata": {},
   "source": [
    "To start, execute the command below."
   ]
  },
  {
   "cell_type": "code",
   "execution_count": 13,
   "metadata": {},
   "outputs": [
    {
     "name": "stdout",
     "output_type": "stream",
     "text": [
      " * Serving Flask app \"barhopper.py\"\n",
      " * Environment: production\n",
      "\u001b[31m   WARNING: This is a development server. Do not use it in a production deployment.\u001b[0m\n",
      "\u001b[2m   Use a production WSGI server instead.\u001b[0m\n",
      " * Debug mode: off\n",
      "[2020-04-06 18:38:14,314] INFO in __init__: Test startup\n",
      " * Running on http://0.0.0.0:5000/ (Press CTRL+C to quit)\n",
      "71.230.210.179 - - [06/Apr/2020 18:38:17] \"\u001b[37mGET /index HTTP/1.1\u001b[0m\" 200 -\n",
      "71.230.210.179 - - [06/Apr/2020 18:38:18] \"\u001b[37mGET /static/mystyle.css HTTP/1.1\u001b[0m\" 200 -\n",
      "71.230.210.179 - - [06/Apr/2020 18:38:22] \"\u001b[37mGET /index HTTP/1.1\u001b[0m\" 200 -\n",
      "71.230.210.179 - - [06/Apr/2020 18:38:51] \"\u001b[37mGET /index HTTP/1.1\u001b[0m\" 200 -\n",
      "71.230.210.179 - - [06/Apr/2020 18:40:18] \"\u001b[37mGET / HTTP/1.1\u001b[0m\" 200 -\n",
      "71.230.210.179 - - [06/Apr/2020 18:40:18] \"\u001b[37mGET /static/mystyle.css HTTP/1.1\u001b[0m\" 200 -\n",
      "71.230.210.179 - - [06/Apr/2020 18:40:18] \"\u001b[33mGET /favicon.ico HTTP/1.1\u001b[0m\" 404 -\n",
      "71.230.210.179 - - [06/Apr/2020 18:40:22] \"\u001b[37mGET /login HTTP/1.1\u001b[0m\" 200 -\n",
      "71.230.210.179 - - [06/Apr/2020 18:40:22] \"\u001b[33mGET /favicon.ico HTTP/1.1\u001b[0m\" 404 -\n",
      "71.230.210.179 - - [06/Apr/2020 18:40:30] \"\u001b[32mPOST /login HTTP/1.1\u001b[0m\" 302 -\n",
      "71.230.210.179 - - [06/Apr/2020 18:40:30] \"\u001b[37mGET /index HTTP/1.1\u001b[0m\" 200 -\n",
      "71.230.210.179 - - [06/Apr/2020 18:40:30] \"\u001b[33mGET /favicon.ico HTTP/1.1\u001b[0m\" 404 -\n",
      "[2020-04-06 18:40:36,579] ERROR in app: Exception on /user/shane [GET]\n",
      "Traceback (most recent call last):\n",
      "  File \"/usr/local/lib/python3.6/dist-packages/flask/app.py\", line 2446, in wsgi_app\n",
      "    response = self.full_dispatch_request()\n",
      "  File \"/usr/local/lib/python3.6/dist-packages/flask/app.py\", line 1951, in full_dispatch_request\n",
      "    rv = self.handle_user_exception(e)\n",
      "  File \"/usr/local/lib/python3.6/dist-packages/flask/app.py\", line 1820, in handle_user_exception\n",
      "    reraise(exc_type, exc_value, tb)\n",
      "  File \"/usr/local/lib/python3.6/dist-packages/flask/_compat.py\", line 39, in reraise\n",
      "    raise value\n",
      "  File \"/usr/local/lib/python3.6/dist-packages/flask/app.py\", line 1949, in full_dispatch_request\n",
      "    rv = self.dispatch_request()\n",
      "  File \"/usr/local/lib/python3.6/dist-packages/flask/app.py\", line 1935, in dispatch_request\n",
      "    return self.view_functions[rule.endpoint](**req.view_args)\n",
      "  File \"/usr/local/lib/python3.6/dist-packages/flask_login/utils.py\", line 272, in decorated_view\n",
      "    return func(*args, **kwargs)\n",
      "  File \"/home/ubuntu/notebooks/barhopper/barHopper/app/routes.py\", line 104, in user\n",
      "    crawls = user.trips.order_by(Crawl.timestamp.desc()).paginate(\n",
      "AttributeError: 'User' object has no attribute 'trips'\n",
      "71.230.210.179 - - [06/Apr/2020 18:40:37] \"\u001b[35m\u001b[1mGET /user/shane HTTP/1.1\u001b[0m\" 500 -\n",
      "71.230.210.179 - - [06/Apr/2020 18:40:38] \"\u001b[33mGET /favicon.ico HTTP/1.1\u001b[0m\" 404 -\n",
      "71.230.210.179 - - [06/Apr/2020 18:40:41] \"\u001b[37mGET /index HTTP/1.1\u001b[0m\" 200 -\n",
      "^C\n"
     ]
    }
   ],
   "source": [
    "!flask run --host=0.0.0.0"
   ]
  },
  {
   "cell_type": "code",
   "execution_count": null,
   "metadata": {},
   "outputs": [],
   "source": []
  }
 ],
 "metadata": {
  "kernelspec": {
   "display_name": "Python 3",
   "language": "python",
   "name": "python3"
  },
  "language_info": {
   "codemirror_mode": {
    "name": "ipython",
    "version": 3
   },
   "file_extension": ".py",
   "mimetype": "text/x-python",
   "name": "python",
   "nbconvert_exporter": "python",
   "pygments_lexer": "ipython3",
   "version": "3.6.9"
  },
  "toc": {
   "nav_menu": {},
   "number_sections": true,
   "sideBar": true,
   "skip_h1_title": false,
   "title_cell": "Table of Contents",
   "title_sidebar": "Contents",
   "toc_cell": false,
   "toc_position": {},
   "toc_section_display": true,
   "toc_window_display": false
  }
 },
 "nbformat": 4,
 "nbformat_minor": 4
}
